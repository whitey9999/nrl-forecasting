{
 "cells": [
  {
   "cell_type": "code",
   "execution_count": 1,
   "id": "9a52f1bc",
   "metadata": {},
   "outputs": [],
   "source": [
    "import pandas as pd\n",
    "import numpy as np"
   ]
  },
  {
   "cell_type": "code",
   "execution_count": 2,
   "id": "05fab9fc",
   "metadata": {},
   "outputs": [],
   "source": [
    "nrl = pd.read_csv('nrl_score_data.csv')"
   ]
  },
  {
   "cell_type": "code",
   "execution_count": 3,
   "id": "0a90d14a",
   "metadata": {},
   "outputs": [
    {
     "data": {
      "text/html": [
       "<div>\n",
       "<style scoped>\n",
       "    .dataframe tbody tr th:only-of-type {\n",
       "        vertical-align: middle;\n",
       "    }\n",
       "\n",
       "    .dataframe tbody tr th {\n",
       "        vertical-align: top;\n",
       "    }\n",
       "\n",
       "    .dataframe thead th {\n",
       "        text-align: right;\n",
       "    }\n",
       "</style>\n",
       "<table border=\"1\" class=\"dataframe\">\n",
       "  <thead>\n",
       "    <tr style=\"text-align: right;\">\n",
       "      <th></th>\n",
       "      <th>Date</th>\n",
       "      <th>Kick-off (local)</th>\n",
       "      <th>Home Team</th>\n",
       "      <th>Away Team</th>\n",
       "      <th>Venue</th>\n",
       "      <th>Home Score</th>\n",
       "      <th>Away Score</th>\n",
       "    </tr>\n",
       "  </thead>\n",
       "  <tbody>\n",
       "    <tr>\n",
       "      <th>0</th>\n",
       "      <td>25-Apr-23</td>\n",
       "      <td>19:00</td>\n",
       "      <td>Melbourne Storm</td>\n",
       "      <td>New Zealand Warriors</td>\n",
       "      <td>AAMI Park</td>\n",
       "      <td>30</td>\n",
       "      <td>22</td>\n",
       "    </tr>\n",
       "    <tr>\n",
       "      <th>1</th>\n",
       "      <td>25-Apr-23</td>\n",
       "      <td>16:05</td>\n",
       "      <td>Sydney Roosters</td>\n",
       "      <td>St George Dragons</td>\n",
       "      <td>Allianz Stadium</td>\n",
       "      <td>27</td>\n",
       "      <td>26</td>\n",
       "    </tr>\n",
       "    <tr>\n",
       "      <th>2</th>\n",
       "      <td>23-Apr-23</td>\n",
       "      <td>16:05</td>\n",
       "      <td>Wests Tigers</td>\n",
       "      <td>Manly Sea Eagles</td>\n",
       "      <td>Campbelltown Stadium</td>\n",
       "      <td>16</td>\n",
       "      <td>22</td>\n",
       "    </tr>\n",
       "    <tr>\n",
       "      <th>3</th>\n",
       "      <td>23-Apr-23</td>\n",
       "      <td>14:00</td>\n",
       "      <td>Dolphins</td>\n",
       "      <td>Gold Coast Titans</td>\n",
       "      <td>Suncorp Stadium</td>\n",
       "      <td>28</td>\n",
       "      <td>26</td>\n",
       "    </tr>\n",
       "    <tr>\n",
       "      <th>4</th>\n",
       "      <td>22-Apr-23</td>\n",
       "      <td>19:35</td>\n",
       "      <td>North QLD Cowboys</td>\n",
       "      <td>Newcastle Knights</td>\n",
       "      <td>QCB Stadium</td>\n",
       "      <td>18</td>\n",
       "      <td>16</td>\n",
       "    </tr>\n",
       "  </tbody>\n",
       "</table>\n",
       "</div>"
      ],
      "text/plain": [
       "        Date Kick-off (local)          Home Team             Away Team  \\\n",
       "0  25-Apr-23            19:00    Melbourne Storm  New Zealand Warriors   \n",
       "1  25-Apr-23            16:05    Sydney Roosters     St George Dragons   \n",
       "2  23-Apr-23            16:05       Wests Tigers      Manly Sea Eagles   \n",
       "3  23-Apr-23            14:00           Dolphins     Gold Coast Titans   \n",
       "4  22-Apr-23            19:35  North QLD Cowboys     Newcastle Knights   \n",
       "\n",
       "                  Venue  Home Score  Away Score  \n",
       "0             AAMI Park          30          22  \n",
       "1       Allianz Stadium          27          26  \n",
       "2  Campbelltown Stadium          16          22  \n",
       "3       Suncorp Stadium          28          26  \n",
       "4           QCB Stadium          18          16  "
      ]
     },
     "execution_count": 3,
     "metadata": {},
     "output_type": "execute_result"
    }
   ],
   "source": [
    "nrl.head()"
   ]
  },
  {
   "cell_type": "code",
   "execution_count": 4,
   "id": "f6d5ea72",
   "metadata": {},
   "outputs": [
    {
     "data": {
      "text/plain": [
       "Date                object\n",
       "Kick-off (local)    object\n",
       "Home Team           object\n",
       "Away Team           object\n",
       "Venue               object\n",
       "Home Score           int64\n",
       "Away Score           int64\n",
       "dtype: object"
      ]
     },
     "execution_count": 4,
     "metadata": {},
     "output_type": "execute_result"
    }
   ],
   "source": [
    "nrl.dtypes"
   ]
  },
  {
   "cell_type": "code",
   "execution_count": 5,
   "id": "50bf7abf",
   "metadata": {},
   "outputs": [],
   "source": [
    "nrl['Date'] = pd.to_datetime(nrl['Date'])"
   ]
  },
  {
   "cell_type": "code",
   "execution_count": 6,
   "id": "bcd8da90",
   "metadata": {},
   "outputs": [],
   "source": [
    "nrl = nrl.drop('Kick-off (local)', axis=1)"
   ]
  },
  {
   "cell_type": "code",
   "execution_count": 18,
   "id": "105cd3df",
   "metadata": {},
   "outputs": [
    {
     "data": {
      "text/plain": [
       "{'Home Team': 'string', 'Away Team': 'string', 'Venue': 'string'}"
      ]
     },
     "execution_count": 18,
     "metadata": {},
     "output_type": "execute_result"
    }
   ],
   "source": [
    "convert_dict = {'Home Team': 'string', 'Away Team': 'string', 'Venue': 'string'}\n",
    "convert_dict"
   ]
  },
  {
   "cell_type": "code",
   "execution_count": 19,
   "id": "3f7ecedf",
   "metadata": {},
   "outputs": [],
   "source": [
    "nrl = nrl.astype(convert_dict)"
   ]
  },
  {
   "cell_type": "code",
   "execution_count": 20,
   "id": "bc40adc7",
   "metadata": {},
   "outputs": [
    {
     "data": {
      "text/plain": [
       "Date          datetime64[ns]\n",
       "Home Team             string\n",
       "Away Team             string\n",
       "Venue                 string\n",
       "Home Score             int64\n",
       "Away Score             int64\n",
       "dtype: object"
      ]
     },
     "execution_count": 20,
     "metadata": {},
     "output_type": "execute_result"
    }
   ],
   "source": [
    "nrl.dtypes"
   ]
  },
  {
   "cell_type": "code",
   "execution_count": 21,
   "id": "89770510",
   "metadata": {},
   "outputs": [
    {
     "data": {
      "text/html": [
       "<div>\n",
       "<style scoped>\n",
       "    .dataframe tbody tr th:only-of-type {\n",
       "        vertical-align: middle;\n",
       "    }\n",
       "\n",
       "    .dataframe tbody tr th {\n",
       "        vertical-align: top;\n",
       "    }\n",
       "\n",
       "    .dataframe thead th {\n",
       "        text-align: right;\n",
       "    }\n",
       "</style>\n",
       "<table border=\"1\" class=\"dataframe\">\n",
       "  <thead>\n",
       "    <tr style=\"text-align: right;\">\n",
       "      <th></th>\n",
       "      <th>Date</th>\n",
       "      <th>Home Team</th>\n",
       "      <th>Away Team</th>\n",
       "      <th>Venue</th>\n",
       "      <th>Home Score</th>\n",
       "      <th>Away Score</th>\n",
       "    </tr>\n",
       "  </thead>\n",
       "  <tbody>\n",
       "    <tr>\n",
       "      <th>0</th>\n",
       "      <td>2023-04-25</td>\n",
       "      <td>Melbourne Storm</td>\n",
       "      <td>New Zealand Warriors</td>\n",
       "      <td>AAMI Park</td>\n",
       "      <td>30</td>\n",
       "      <td>22</td>\n",
       "    </tr>\n",
       "    <tr>\n",
       "      <th>1</th>\n",
       "      <td>2023-04-25</td>\n",
       "      <td>Sydney Roosters</td>\n",
       "      <td>St George Dragons</td>\n",
       "      <td>Allianz Stadium</td>\n",
       "      <td>27</td>\n",
       "      <td>26</td>\n",
       "    </tr>\n",
       "    <tr>\n",
       "      <th>2</th>\n",
       "      <td>2023-04-23</td>\n",
       "      <td>Wests Tigers</td>\n",
       "      <td>Manly Sea Eagles</td>\n",
       "      <td>Campbelltown Stadium</td>\n",
       "      <td>16</td>\n",
       "      <td>22</td>\n",
       "    </tr>\n",
       "    <tr>\n",
       "      <th>3</th>\n",
       "      <td>2023-04-23</td>\n",
       "      <td>Dolphins</td>\n",
       "      <td>Gold Coast Titans</td>\n",
       "      <td>Suncorp Stadium</td>\n",
       "      <td>28</td>\n",
       "      <td>26</td>\n",
       "    </tr>\n",
       "    <tr>\n",
       "      <th>4</th>\n",
       "      <td>2023-04-22</td>\n",
       "      <td>North QLD Cowboys</td>\n",
       "      <td>Newcastle Knights</td>\n",
       "      <td>QCB Stadium</td>\n",
       "      <td>18</td>\n",
       "      <td>16</td>\n",
       "    </tr>\n",
       "  </tbody>\n",
       "</table>\n",
       "</div>"
      ],
      "text/plain": [
       "        Date          Home Team             Away Team                 Venue  \\\n",
       "0 2023-04-25    Melbourne Storm  New Zealand Warriors             AAMI Park   \n",
       "1 2023-04-25    Sydney Roosters     St George Dragons       Allianz Stadium   \n",
       "2 2023-04-23       Wests Tigers      Manly Sea Eagles  Campbelltown Stadium   \n",
       "3 2023-04-23           Dolphins     Gold Coast Titans       Suncorp Stadium   \n",
       "4 2023-04-22  North QLD Cowboys     Newcastle Knights           QCB Stadium   \n",
       "\n",
       "   Home Score  Away Score  \n",
       "0          30          22  \n",
       "1          27          26  \n",
       "2          16          22  \n",
       "3          28          26  \n",
       "4          18          16  "
      ]
     },
     "execution_count": 21,
     "metadata": {},
     "output_type": "execute_result"
    }
   ],
   "source": [
    "nrl.head()"
   ]
  },
  {
   "cell_type": "code",
   "execution_count": 22,
   "id": "9668a7bf",
   "metadata": {},
   "outputs": [],
   "source": [
    "nrl_23 = nrl[nrl['Date'] > '2023-01-01']"
   ]
  },
  {
   "cell_type": "code",
   "execution_count": 23,
   "id": "79a771f1",
   "metadata": {},
   "outputs": [
    {
     "data": {
      "text/html": [
       "<div>\n",
       "<style scoped>\n",
       "    .dataframe tbody tr th:only-of-type {\n",
       "        vertical-align: middle;\n",
       "    }\n",
       "\n",
       "    .dataframe tbody tr th {\n",
       "        vertical-align: top;\n",
       "    }\n",
       "\n",
       "    .dataframe thead th {\n",
       "        text-align: right;\n",
       "    }\n",
       "</style>\n",
       "<table border=\"1\" class=\"dataframe\">\n",
       "  <thead>\n",
       "    <tr style=\"text-align: right;\">\n",
       "      <th></th>\n",
       "      <th>Date</th>\n",
       "      <th>Home Team</th>\n",
       "      <th>Away Team</th>\n",
       "      <th>Venue</th>\n",
       "      <th>Home Score</th>\n",
       "      <th>Away Score</th>\n",
       "    </tr>\n",
       "  </thead>\n",
       "  <tbody>\n",
       "    <tr>\n",
       "      <th>0</th>\n",
       "      <td>2023-04-25</td>\n",
       "      <td>Melbourne Storm</td>\n",
       "      <td>New Zealand Warriors</td>\n",
       "      <td>AAMI Park</td>\n",
       "      <td>30</td>\n",
       "      <td>22</td>\n",
       "    </tr>\n",
       "    <tr>\n",
       "      <th>1</th>\n",
       "      <td>2023-04-25</td>\n",
       "      <td>Sydney Roosters</td>\n",
       "      <td>St George Dragons</td>\n",
       "      <td>Allianz Stadium</td>\n",
       "      <td>27</td>\n",
       "      <td>26</td>\n",
       "    </tr>\n",
       "    <tr>\n",
       "      <th>2</th>\n",
       "      <td>2023-04-23</td>\n",
       "      <td>Wests Tigers</td>\n",
       "      <td>Manly Sea Eagles</td>\n",
       "      <td>Campbelltown Stadium</td>\n",
       "      <td>16</td>\n",
       "      <td>22</td>\n",
       "    </tr>\n",
       "    <tr>\n",
       "      <th>3</th>\n",
       "      <td>2023-04-23</td>\n",
       "      <td>Dolphins</td>\n",
       "      <td>Gold Coast Titans</td>\n",
       "      <td>Suncorp Stadium</td>\n",
       "      <td>28</td>\n",
       "      <td>26</td>\n",
       "    </tr>\n",
       "    <tr>\n",
       "      <th>4</th>\n",
       "      <td>2023-04-22</td>\n",
       "      <td>North QLD Cowboys</td>\n",
       "      <td>Newcastle Knights</td>\n",
       "      <td>QCB Stadium</td>\n",
       "      <td>18</td>\n",
       "      <td>16</td>\n",
       "    </tr>\n",
       "  </tbody>\n",
       "</table>\n",
       "</div>"
      ],
      "text/plain": [
       "        Date          Home Team             Away Team                 Venue  \\\n",
       "0 2023-04-25    Melbourne Storm  New Zealand Warriors             AAMI Park   \n",
       "1 2023-04-25    Sydney Roosters     St George Dragons       Allianz Stadium   \n",
       "2 2023-04-23       Wests Tigers      Manly Sea Eagles  Campbelltown Stadium   \n",
       "3 2023-04-23           Dolphins     Gold Coast Titans       Suncorp Stadium   \n",
       "4 2023-04-22  North QLD Cowboys     Newcastle Knights           QCB Stadium   \n",
       "\n",
       "   Home Score  Away Score  \n",
       "0          30          22  \n",
       "1          27          26  \n",
       "2          16          22  \n",
       "3          28          26  \n",
       "4          18          16  "
      ]
     },
     "execution_count": 23,
     "metadata": {},
     "output_type": "execute_result"
    }
   ],
   "source": [
    "nrl_23.head()"
   ]
  },
  {
   "cell_type": "code",
   "execution_count": 24,
   "id": "2261a543",
   "metadata": {},
   "outputs": [],
   "source": [
    "nrl_scores = nrl[nrl['Date'] < '2023-01-01']"
   ]
  },
  {
   "cell_type": "code",
   "execution_count": 25,
   "id": "27b88f00",
   "metadata": {},
   "outputs": [
    {
     "data": {
      "text/plain": [
       "Date          2782\n",
       "Home Team     2782\n",
       "Away Team     2782\n",
       "Venue         2782\n",
       "Home Score    2782\n",
       "Away Score    2782\n",
       "dtype: int64"
      ]
     },
     "execution_count": 25,
     "metadata": {},
     "output_type": "execute_result"
    }
   ],
   "source": [
    "nrl_scores.count()"
   ]
  },
  {
   "cell_type": "code",
   "execution_count": 27,
   "id": "9c760d45",
   "metadata": {},
   "outputs": [],
   "source": [
    "nrl_scores = nrl_scores.reset_index(drop=True)"
   ]
  },
  {
   "cell_type": "code",
   "execution_count": 28,
   "id": "f3b8c640",
   "metadata": {},
   "outputs": [
    {
     "data": {
      "text/html": [
       "<div>\n",
       "<style scoped>\n",
       "    .dataframe tbody tr th:only-of-type {\n",
       "        vertical-align: middle;\n",
       "    }\n",
       "\n",
       "    .dataframe tbody tr th {\n",
       "        vertical-align: top;\n",
       "    }\n",
       "\n",
       "    .dataframe thead th {\n",
       "        text-align: right;\n",
       "    }\n",
       "</style>\n",
       "<table border=\"1\" class=\"dataframe\">\n",
       "  <thead>\n",
       "    <tr style=\"text-align: right;\">\n",
       "      <th></th>\n",
       "      <th>Date</th>\n",
       "      <th>Home Team</th>\n",
       "      <th>Away Team</th>\n",
       "      <th>Venue</th>\n",
       "      <th>Home Score</th>\n",
       "      <th>Away Score</th>\n",
       "    </tr>\n",
       "  </thead>\n",
       "  <tbody>\n",
       "    <tr>\n",
       "      <th>0</th>\n",
       "      <td>2022-10-02</td>\n",
       "      <td>Penrith Panthers</td>\n",
       "      <td>Parramatta Eels</td>\n",
       "      <td>Accor Stadium</td>\n",
       "      <td>28</td>\n",
       "      <td>12</td>\n",
       "    </tr>\n",
       "    <tr>\n",
       "      <th>1</th>\n",
       "      <td>2022-09-24</td>\n",
       "      <td>Penrith Panthers</td>\n",
       "      <td>South Sydney Rabbitohs</td>\n",
       "      <td>Accor Stadium</td>\n",
       "      <td>32</td>\n",
       "      <td>12</td>\n",
       "    </tr>\n",
       "    <tr>\n",
       "      <th>2</th>\n",
       "      <td>2022-09-23</td>\n",
       "      <td>North QLD Cowboys</td>\n",
       "      <td>Parramatta Eels</td>\n",
       "      <td>QCB Stadium</td>\n",
       "      <td>20</td>\n",
       "      <td>24</td>\n",
       "    </tr>\n",
       "    <tr>\n",
       "      <th>3</th>\n",
       "      <td>2022-09-17</td>\n",
       "      <td>Cronulla Sharks</td>\n",
       "      <td>South Sydney Rabbitohs</td>\n",
       "      <td>Allianz Stadium</td>\n",
       "      <td>12</td>\n",
       "      <td>38</td>\n",
       "    </tr>\n",
       "    <tr>\n",
       "      <th>4</th>\n",
       "      <td>2022-09-16</td>\n",
       "      <td>Parramatta Eels</td>\n",
       "      <td>Canberra Raiders</td>\n",
       "      <td>CommBank Stadium</td>\n",
       "      <td>40</td>\n",
       "      <td>4</td>\n",
       "    </tr>\n",
       "  </tbody>\n",
       "</table>\n",
       "</div>"
      ],
      "text/plain": [
       "        Date          Home Team               Away Team             Venue  \\\n",
       "0 2022-10-02   Penrith Panthers         Parramatta Eels     Accor Stadium   \n",
       "1 2022-09-24   Penrith Panthers  South Sydney Rabbitohs     Accor Stadium   \n",
       "2 2022-09-23  North QLD Cowboys         Parramatta Eels       QCB Stadium   \n",
       "3 2022-09-17    Cronulla Sharks  South Sydney Rabbitohs   Allianz Stadium   \n",
       "4 2022-09-16    Parramatta Eels        Canberra Raiders  CommBank Stadium   \n",
       "\n",
       "   Home Score  Away Score  \n",
       "0          28          12  \n",
       "1          32          12  \n",
       "2          20          24  \n",
       "3          12          38  \n",
       "4          40           4  "
      ]
     },
     "execution_count": 28,
     "metadata": {},
     "output_type": "execute_result"
    }
   ],
   "source": [
    "nrl_scores.head()"
   ]
  },
  {
   "cell_type": "code",
   "execution_count": 29,
   "id": "b7441592",
   "metadata": {},
   "outputs": [],
   "source": [
    "nrl_23.to_csv('2023_nrl.csv')"
   ]
  },
  {
   "cell_type": "code",
   "execution_count": 30,
   "id": "809a942f",
   "metadata": {},
   "outputs": [],
   "source": [
    "nrl_scores.to_csv('past_nrl_scores.csv')"
   ]
  },
  {
   "cell_type": "code",
   "execution_count": null,
   "id": "89e35b6b",
   "metadata": {},
   "outputs": [],
   "source": []
  },
  {
   "cell_type": "code",
   "execution_count": null,
   "id": "2ff214cf",
   "metadata": {},
   "outputs": [],
   "source": []
  }
 ],
 "metadata": {
  "kernelspec": {
   "display_name": "base_3.9",
   "language": "python",
   "name": "base_3.9"
  },
  "language_info": {
   "codemirror_mode": {
    "name": "ipython",
    "version": 3
   },
   "file_extension": ".py",
   "mimetype": "text/x-python",
   "name": "python",
   "nbconvert_exporter": "python",
   "pygments_lexer": "ipython3",
   "version": "3.9.5"
  }
 },
 "nbformat": 4,
 "nbformat_minor": 5
}
